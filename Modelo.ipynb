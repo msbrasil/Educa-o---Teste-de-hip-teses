{
 "cells": [
  {
   "cell_type": "code",
   "execution_count": 1,
   "metadata": {},
   "outputs": [],
   "source": [
    "import pandas as pd\n",
    "import statsmodels.api as sm"
   ]
  },
  {
   "cell_type": "code",
   "execution_count": 2,
   "metadata": {},
   "outputs": [],
   "source": [
    "filtro_enem = [\n",
    "    \"NU_INSCRICAO\", # Identificador único da inscrição\n",
    "    \"TP_ESCOLA\",  # Tipo de escola do Ensino Médio (Público, Privado)\n",
    "    \"TP_ENSINO\", #Ensino médio ou especial\n",
    "    \"CO_MUNICIPIO_ESC\", #Código de identificação da escola\n",
    "    \"SG_UF_ESC\",  # Sigla da Unidade da Federação da escola\n",
    "    \"TP_DEPENDENCIA_ADM_ESC\", #Dependência administrativa\n",
    "    \"TP_LOCALIZACAO_ESC\", #localização da escola\n",
    "    \"NU_NOTA_CN\", #nota da prova de Ciências da Natureza\n",
    "    \"NU_NOTA_CH\", #nota da prova de Ciências Humanas\n",
    "    \"NU_NOTA_LC\", #nota da prova de Linguagens e Códigos\n",
    "    \"NU_NOTA_MT\", #nota da prova de Matemática\n",
    "    \"NU_NOTA_REDACAO\", #nota da prova de Redação\n",
    "    \"Q001\", #educação do pai\n",
    "    \"Q002\", #educação da mãe\n",
    "    \"Q006\", #renda familiar\n",
    "    \"Q024\", #possui computador em casa\n",
    "    \"Q025\" #possui internet em casa\n",
    "    ]"
   ]
  },
  {
   "cell_type": "code",
   "execution_count": 3,
   "metadata": {},
   "outputs": [],
   "source": [
    "#base do enem 2022\n",
    "enem = pd.read_csv('dados/MICRODADOS_ENEM_2022.csv', usecols=filtro_enem, sep=';', encoding='latin1')"
   ]
  },
  {
   "cell_type": "code",
   "execution_count": 4,
   "metadata": {},
   "outputs": [],
   "source": [
    "#calcula média para enem 2022\n",
    "enem['MEDIA'] = (enem['NU_NOTA_CN'] + enem['NU_NOTA_CH'] + enem['NU_NOTA_LC'] + enem['NU_NOTA_MT'] + enem['NU_NOTA_REDACAO']) / 5"
   ]
  },
  {
   "cell_type": "code",
   "execution_count": 7,
   "metadata": {},
   "outputs": [],
   "source": [
    "#INSE\n",
    "inse = pd.read_excel('dados/INSE_2021_escolas.xlsx', usecols=['ID_ESCOLA', 'INSE_CLASSIFICACAO'])"
   ]
  },
  {
   "cell_type": "code",
   "execution_count": 10,
   "metadata": {},
   "outputs": [],
   "source": [
    "filtro_censo = [\n",
    "    \"CO_ENTIDADE\", #Código da escola\n",
    "    'IN_LABORATORIO_INFORMATICA', #Possui laboratório de informática\n",
    "    'IN_BIBLIOTECA' #Possui biblioteca\n",
    "    ]\n",
    "\n",
    "#censo escolar educação básica\n",
    "censo_escolar = pd.read_csv('dados/microdados_ed_basica_2022.csv', usecols=filtro_censo, sep=';', encoding='latin1')"
   ]
  },
  {
   "cell_type": "code",
   "execution_count": 13,
   "metadata": {},
   "outputs": [],
   "source": [
    "#Características dos docentes\n",
    "\n",
    "docentes = pd.read_excel('dados/formacao_docentes.xlsx')"
   ]
  },
  {
   "attachments": {},
   "cell_type": "markdown",
   "metadata": {},
   "source": [
    "tratamento"
   ]
  },
  {
   "cell_type": "code",
   "execution_count": 5,
   "metadata": {},
   "outputs": [],
   "source": [
    "enem.dropna(subset='MEDIA', inplace=True) #tira todas as linhas que não tem média"
   ]
  },
  {
   "cell_type": "code",
   "execution_count": 6,
   "metadata": {},
   "outputs": [],
   "source": [
    "dict_q001_2 = {\n",
    "    'H': -1, #não sabe\n",
    "    'A': 0,\n",
    "    'B': 1,\n",
    "    'C': 2,\n",
    "    'D': 3,\n",
    "    'E': 4,\n",
    "    'F': 5,\n",
    "    'G': 6\n",
    "}"
   ]
  },
  {
   "cell_type": "code",
   "execution_count": 7,
   "metadata": {},
   "outputs": [],
   "source": [
    "enem['Q001'] = enem['Q001'].map(dict_q001_2)\n",
    "enem['Q002'] = enem['Q002'].map(dict_q001_2)"
   ]
  },
  {
   "cell_type": "code",
   "execution_count": 8,
   "metadata": {},
   "outputs": [],
   "source": [
    "#criar uma nova coluna chamada EDUCACAO_PAI_MAE. Verifica para cada linha quem possui maior educação, se é o pai ou a mãe e atribuir o valor a nova coluna. As categorias são do A ao G, sendo A a menor e G a maior.\n",
    "\n",
    "enem['EDUCACAO_PAI_MAE'] = enem[['Q001', 'Q002']].max(axis=1)\n"
   ]
  },
  {
   "cell_type": "code",
   "execution_count": 9,
   "metadata": {},
   "outputs": [],
   "source": [
    "dict_escolaridade_pais = {\n",
    "    -1: 'H',\n",
    "    0: 'A', \n",
    "    1: 'B', \n",
    "    2: 'C', \n",
    "    3: 'D', \n",
    "    4: 'E', \n",
    "    5: 'F', \n",
    "    6: 'G' \n",
    "}"
   ]
  },
  {
   "cell_type": "code",
   "execution_count": 10,
   "metadata": {},
   "outputs": [],
   "source": [
    "enem['EDUCACAO_PAI_MAE'] = enem['EDUCACAO_PAI_MAE'].map(dict_escolaridade_pais)"
   ]
  },
  {
   "cell_type": "code",
   "execution_count": 11,
   "metadata": {},
   "outputs": [
    {
     "data": {
      "text/html": [
       "<div>\n",
       "<style scoped>\n",
       "    .dataframe tbody tr th:only-of-type {\n",
       "        vertical-align: middle;\n",
       "    }\n",
       "\n",
       "    .dataframe tbody tr th {\n",
       "        vertical-align: top;\n",
       "    }\n",
       "\n",
       "    .dataframe thead th {\n",
       "        text-align: right;\n",
       "    }\n",
       "</style>\n",
       "<table border=\"1\" class=\"dataframe\">\n",
       "  <thead>\n",
       "    <tr style=\"text-align: right;\">\n",
       "      <th></th>\n",
       "      <th>Q001</th>\n",
       "      <th>Q002</th>\n",
       "      <th>EDUCACAO_PAI_MAE</th>\n",
       "    </tr>\n",
       "  </thead>\n",
       "  <tbody>\n",
       "    <tr>\n",
       "      <th>2</th>\n",
       "      <td>4</td>\n",
       "      <td>5</td>\n",
       "      <td>F</td>\n",
       "    </tr>\n",
       "    <tr>\n",
       "      <th>3</th>\n",
       "      <td>2</td>\n",
       "      <td>0</td>\n",
       "      <td>C</td>\n",
       "    </tr>\n",
       "    <tr>\n",
       "      <th>7</th>\n",
       "      <td>4</td>\n",
       "      <td>4</td>\n",
       "      <td>E</td>\n",
       "    </tr>\n",
       "    <tr>\n",
       "      <th>9</th>\n",
       "      <td>4</td>\n",
       "      <td>4</td>\n",
       "      <td>E</td>\n",
       "    </tr>\n",
       "    <tr>\n",
       "      <th>11</th>\n",
       "      <td>4</td>\n",
       "      <td>4</td>\n",
       "      <td>E</td>\n",
       "    </tr>\n",
       "    <tr>\n",
       "      <th>...</th>\n",
       "      <td>...</td>\n",
       "      <td>...</td>\n",
       "      <td>...</td>\n",
       "    </tr>\n",
       "    <tr>\n",
       "      <th>3476095</th>\n",
       "      <td>4</td>\n",
       "      <td>4</td>\n",
       "      <td>E</td>\n",
       "    </tr>\n",
       "    <tr>\n",
       "      <th>3476097</th>\n",
       "      <td>-1</td>\n",
       "      <td>2</td>\n",
       "      <td>C</td>\n",
       "    </tr>\n",
       "    <tr>\n",
       "      <th>3476098</th>\n",
       "      <td>-1</td>\n",
       "      <td>4</td>\n",
       "      <td>E</td>\n",
       "    </tr>\n",
       "    <tr>\n",
       "      <th>3476099</th>\n",
       "      <td>2</td>\n",
       "      <td>1</td>\n",
       "      <td>C</td>\n",
       "    </tr>\n",
       "    <tr>\n",
       "      <th>3476102</th>\n",
       "      <td>4</td>\n",
       "      <td>2</td>\n",
       "      <td>E</td>\n",
       "    </tr>\n",
       "  </tbody>\n",
       "</table>\n",
       "<p>2344823 rows × 3 columns</p>\n",
       "</div>"
      ],
      "text/plain": [
       "         Q001  Q002 EDUCACAO_PAI_MAE\n",
       "2           4     5                F\n",
       "3           2     0                C\n",
       "7           4     4                E\n",
       "9           4     4                E\n",
       "11          4     4                E\n",
       "...       ...   ...              ...\n",
       "3476095     4     4                E\n",
       "3476097    -1     2                C\n",
       "3476098    -1     4                E\n",
       "3476099     2     1                C\n",
       "3476102     4     2                E\n",
       "\n",
       "[2344823 rows x 3 columns]"
      ]
     },
     "execution_count": 11,
     "metadata": {},
     "output_type": "execute_result"
    }
   ],
   "source": [
    "enem[['Q001', 'Q002', 'EDUCACAO_PAI_MAE']]"
   ]
  },
  {
   "cell_type": "markdown",
   "metadata": {},
   "source": [
    "infraestrutura"
   ]
  },
  {
   "cell_type": "code",
   "execution_count": 12,
   "metadata": {},
   "outputs": [
    {
     "data": {
      "text/plain": [
       "COMPUTADOR_INTERNET\n",
       "True     1341406\n",
       "False    1003417\n",
       "Name: count, dtype: int64"
      ]
     },
     "execution_count": 12,
     "metadata": {},
     "output_type": "execute_result"
    }
   ],
   "source": [
    "#se o aluno respondeu B, C, D e E na Q024 e B na Q025, então ele possui computador e internet em casa e recebe 1, caso contrário recebe 0\n",
    "\n",
    "enem['COMPUTADOR_INTERNET'] = False\n",
    "\n",
    "enem.loc[(enem['Q024'].isin(['B', 'C', 'D', 'E'])) & (enem['Q025'] == 'B'), 'COMPUTADOR_INTERNET'] = True\n",
    "\n",
    "enem['COMPUTADOR_INTERNET'].value_counts()"
   ]
  },
  {
   "cell_type": "code",
   "execution_count": 13,
   "metadata": {},
   "outputs": [
    {
     "data": {
      "text/html": [
       "<div>\n",
       "<style scoped>\n",
       "    .dataframe tbody tr th:only-of-type {\n",
       "        vertical-align: middle;\n",
       "    }\n",
       "\n",
       "    .dataframe tbody tr th {\n",
       "        vertical-align: top;\n",
       "    }\n",
       "\n",
       "    .dataframe thead th {\n",
       "        text-align: right;\n",
       "    }\n",
       "</style>\n",
       "<table border=\"1\" class=\"dataframe\">\n",
       "  <thead>\n",
       "    <tr style=\"text-align: right;\">\n",
       "      <th></th>\n",
       "      <th>Q024</th>\n",
       "      <th>Q025</th>\n",
       "      <th>COMPUTADOR_INTERNET</th>\n",
       "    </tr>\n",
       "  </thead>\n",
       "  <tbody>\n",
       "    <tr>\n",
       "      <th>2</th>\n",
       "      <td>A</td>\n",
       "      <td>B</td>\n",
       "      <td>False</td>\n",
       "    </tr>\n",
       "    <tr>\n",
       "      <th>3</th>\n",
       "      <td>B</td>\n",
       "      <td>B</td>\n",
       "      <td>True</td>\n",
       "    </tr>\n",
       "    <tr>\n",
       "      <th>7</th>\n",
       "      <td>A</td>\n",
       "      <td>B</td>\n",
       "      <td>False</td>\n",
       "    </tr>\n",
       "    <tr>\n",
       "      <th>9</th>\n",
       "      <td>A</td>\n",
       "      <td>B</td>\n",
       "      <td>False</td>\n",
       "    </tr>\n",
       "    <tr>\n",
       "      <th>11</th>\n",
       "      <td>A</td>\n",
       "      <td>B</td>\n",
       "      <td>False</td>\n",
       "    </tr>\n",
       "    <tr>\n",
       "      <th>...</th>\n",
       "      <td>...</td>\n",
       "      <td>...</td>\n",
       "      <td>...</td>\n",
       "    </tr>\n",
       "    <tr>\n",
       "      <th>3476095</th>\n",
       "      <td>A</td>\n",
       "      <td>B</td>\n",
       "      <td>False</td>\n",
       "    </tr>\n",
       "    <tr>\n",
       "      <th>3476097</th>\n",
       "      <td>B</td>\n",
       "      <td>B</td>\n",
       "      <td>True</td>\n",
       "    </tr>\n",
       "    <tr>\n",
       "      <th>3476098</th>\n",
       "      <td>A</td>\n",
       "      <td>B</td>\n",
       "      <td>False</td>\n",
       "    </tr>\n",
       "    <tr>\n",
       "      <th>3476099</th>\n",
       "      <td>A</td>\n",
       "      <td>A</td>\n",
       "      <td>False</td>\n",
       "    </tr>\n",
       "    <tr>\n",
       "      <th>3476102</th>\n",
       "      <td>B</td>\n",
       "      <td>B</td>\n",
       "      <td>True</td>\n",
       "    </tr>\n",
       "  </tbody>\n",
       "</table>\n",
       "<p>2344823 rows × 3 columns</p>\n",
       "</div>"
      ],
      "text/plain": [
       "        Q024 Q025  COMPUTADOR_INTERNET\n",
       "2          A    B                False\n",
       "3          B    B                 True\n",
       "7          A    B                False\n",
       "9          A    B                False\n",
       "11         A    B                False\n",
       "...      ...  ...                  ...\n",
       "3476095    A    B                False\n",
       "3476097    B    B                 True\n",
       "3476098    A    B                False\n",
       "3476099    A    A                False\n",
       "3476102    B    B                 True\n",
       "\n",
       "[2344823 rows x 3 columns]"
      ]
     },
     "execution_count": 13,
     "metadata": {},
     "output_type": "execute_result"
    }
   ],
   "source": [
    "enem[['Q024', 'Q025', 'COMPUTADOR_INTERNET']]"
   ]
  },
  {
   "cell_type": "markdown",
   "metadata": {},
   "source": [
    "Tipo de escola"
   ]
  },
  {
   "cell_type": "code",
   "execution_count": 14,
   "metadata": {},
   "outputs": [],
   "source": [
    "dict_tp_escola = {\n",
    "    1: 'Não respondeu',\n",
    "    2: 'Pública',\n",
    "    3: 'Privada'\n",
    "}"
   ]
  },
  {
   "cell_type": "code",
   "execution_count": 15,
   "metadata": {},
   "outputs": [],
   "source": [
    "enem['TP_ESCOLA'] = enem['TP_ESCOLA'].map(dict_tp_escola)"
   ]
  },
  {
   "cell_type": "markdown",
   "metadata": {},
   "source": [
    "Tipo de ensino"
   ]
  },
  {
   "cell_type": "code",
   "execution_count": 16,
   "metadata": {},
   "outputs": [],
   "source": [
    "dict_ensino = {\n",
    "    1: 'Regular',\n",
    "    2: 'Especial'\n",
    "}"
   ]
  },
  {
   "cell_type": "code",
   "execution_count": 17,
   "metadata": {},
   "outputs": [],
   "source": [
    "enem['TP_ENSINO'] = enem['TP_ENSINO'].map(dict_ensino)"
   ]
  },
  {
   "cell_type": "code",
   "execution_count": 18,
   "metadata": {},
   "outputs": [],
   "source": [
    "tp_dependencia_adm_esc = {\n",
    "    1: 'Federal',\n",
    "    2: 'Estadual',\n",
    "    3: 'Municipal',\n",
    "    4: 'Privada'\n",
    "}"
   ]
  },
  {
   "cell_type": "code",
   "execution_count": 19,
   "metadata": {},
   "outputs": [],
   "source": [
    "enem['TP_DEPENDENCIA_ADM_ESC'] = enem['TP_DEPENDENCIA_ADM_ESC'].map(tp_dependencia_adm_esc)"
   ]
  },
  {
   "cell_type": "markdown",
   "metadata": {},
   "source": [
    "Localização"
   ]
  },
  {
   "cell_type": "code",
   "execution_count": 20,
   "metadata": {},
   "outputs": [],
   "source": [
    "dict_localizacao_esc = {\n",
    "    1: 'Urbana',\n",
    "    2: 'Rural'\n",
    "}"
   ]
  },
  {
   "cell_type": "code",
   "execution_count": 21,
   "metadata": {},
   "outputs": [],
   "source": [
    "enem['TP_LOCALIZACAO_ESC'] = enem['TP_LOCALIZACAO_ESC'].map(dict_localizacao_esc)"
   ]
  },
  {
   "attachments": {},
   "cell_type": "markdown",
   "metadata": {},
   "source": [
    "Modelo"
   ]
  },
  {
   "cell_type": "code",
   "execution_count": 22,
   "metadata": {},
   "outputs": [],
   "source": [
    "y = pd.to_numeric(enem['MEDIA'])\n",
    "\n",
    "X = enem[['TP_ESCOLA', 'TP_ENSINO', 'TP_DEPENDENCIA_ADM_ESC', 'TP_LOCALIZACAO_ESC', 'EDUCACAO_PAI_MAE', 'COMPUTADOR_INTERNET']]"
   ]
  },
  {
   "cell_type": "code",
   "execution_count": 36,
   "metadata": {},
   "outputs": [],
   "source": [
    "X_dummies = pd.get_dummies(X)"
   ]
  },
  {
   "cell_type": "code",
   "execution_count": 37,
   "metadata": {},
   "outputs": [
    {
     "data": {
      "text/plain": [
       "Index(['COMPUTADOR_INTERNET', 'TP_ESCOLA_Não respondeu', 'TP_ESCOLA_Privada',\n",
       "       'TP_ESCOLA_Pública', 'TP_ENSINO_Especial', 'TP_ENSINO_Regular',\n",
       "       'TP_DEPENDENCIA_ADM_ESC_Estadual', 'TP_DEPENDENCIA_ADM_ESC_Federal',\n",
       "       'TP_DEPENDENCIA_ADM_ESC_Municipal', 'TP_DEPENDENCIA_ADM_ESC_Privada',\n",
       "       'TP_LOCALIZACAO_ESC_Rural', 'TP_LOCALIZACAO_ESC_Urbana',\n",
       "       'EDUCACAO_PAI_MAE_A', 'EDUCACAO_PAI_MAE_B', 'EDUCACAO_PAI_MAE_C',\n",
       "       'EDUCACAO_PAI_MAE_D', 'EDUCACAO_PAI_MAE_E', 'EDUCACAO_PAI_MAE_F',\n",
       "       'EDUCACAO_PAI_MAE_G', 'EDUCACAO_PAI_MAE_H'],\n",
       "      dtype='object')"
      ]
     },
     "execution_count": 37,
     "metadata": {},
     "output_type": "execute_result"
    }
   ],
   "source": [
    "X_dummies.columns"
   ]
  },
  {
   "cell_type": "code",
   "execution_count": 38,
   "metadata": {},
   "outputs": [],
   "source": [
    "X_dummies.drop(columns=['TP_ESCOLA_Não respondeu', 'TP_ESCOLA_Pública', 'TP_ENSINO_Regular', 'TP_DEPENDENCIA_ADM_ESC_Municipal', 'TP_LOCALIZACAO_ESC_Urbana', 'EDUCACAO_PAI_MAE_H'], inplace=True)"
   ]
  },
  {
   "cell_type": "code",
   "execution_count": 39,
   "metadata": {},
   "outputs": [],
   "source": [
    "# Adicionar uma coluna de intercepto aos dados\n",
    "X_dummies = sm.add_constant(X_dummies)"
   ]
  },
  {
   "cell_type": "code",
   "execution_count": 40,
   "metadata": {},
   "outputs": [],
   "source": [
    "X_dummies = X_dummies.astype('int64')"
   ]
  },
  {
   "cell_type": "code",
   "execution_count": 41,
   "metadata": {},
   "outputs": [],
   "source": [
    "# Ajustar o modelo de regressão linear múltipla\n",
    "modelo = sm.OLS(y,X_dummies).fit()"
   ]
  },
  {
   "cell_type": "code",
   "execution_count": 42,
   "metadata": {},
   "outputs": [
    {
     "data": {
      "text/html": [
       "<table class=\"simpletable\">\n",
       "<caption>OLS Regression Results</caption>\n",
       "<tr>\n",
       "  <th>Dep. Variable:</th>          <td>MEDIA</td>      <th>  R-squared:         </th>  <td>   0.239</td>  \n",
       "</tr>\n",
       "<tr>\n",
       "  <th>Model:</th>                   <td>OLS</td>       <th>  Adj. R-squared:    </th>  <td>   0.239</td>  \n",
       "</tr>\n",
       "<tr>\n",
       "  <th>Method:</th>             <td>Least Squares</td>  <th>  F-statistic:       </th>  <td>5.274e+04</td> \n",
       "</tr>\n",
       "<tr>\n",
       "  <th>Date:</th>             <td>Sun, 02 Jul 2023</td> <th>  Prob (F-statistic):</th>   <td>  0.00</td>   \n",
       "</tr>\n",
       "<tr>\n",
       "  <th>Time:</th>                 <td>21:04:49</td>     <th>  Log-Likelihood:    </th> <td>-1.3506e+07</td>\n",
       "</tr>\n",
       "<tr>\n",
       "  <th>No. Observations:</th>      <td>2344823</td>     <th>  AIC:               </th>  <td>2.701e+07</td> \n",
       "</tr>\n",
       "<tr>\n",
       "  <th>Df Residuals:</th>          <td>2344808</td>     <th>  BIC:               </th>  <td>2.701e+07</td> \n",
       "</tr>\n",
       "<tr>\n",
       "  <th>Df Model:</th>              <td>    14</td>      <th>                     </th>      <td> </td>     \n",
       "</tr>\n",
       "<tr>\n",
       "  <th>Covariance Type:</th>      <td>nonrobust</td>    <th>                     </th>      <td> </td>     \n",
       "</tr>\n",
       "</table>\n",
       "<table class=\"simpletable\">\n",
       "<tr>\n",
       "                 <td></td>                    <th>coef</th>     <th>std err</th>      <th>t</th>      <th>P>|t|</th>  <th>[0.025</th>    <th>0.975]</th>  \n",
       "</tr>\n",
       "<tr>\n",
       "  <th>const</th>                           <td>  481.6038</td> <td>    0.375</td> <td> 1282.736</td> <td> 0.000</td> <td>  480.868</td> <td>  482.340</td>\n",
       "</tr>\n",
       "<tr>\n",
       "  <th>COMPUTADOR_INTERNET</th>             <td>   42.7596</td> <td>    0.112</td> <td>  382.050</td> <td> 0.000</td> <td>   42.540</td> <td>   42.979</td>\n",
       "</tr>\n",
       "<tr>\n",
       "  <th>TP_ESCOLA_Privada</th>               <td>   11.7101</td> <td>    0.341</td> <td>   34.326</td> <td> 0.000</td> <td>   11.041</td> <td>   12.379</td>\n",
       "</tr>\n",
       "<tr>\n",
       "  <th>TP_ENSINO_Especial</th>              <td>  -33.2234</td> <td>    1.143</td> <td>  -29.070</td> <td> 0.000</td> <td>  -35.463</td> <td>  -30.983</td>\n",
       "</tr>\n",
       "<tr>\n",
       "  <th>TP_DEPENDENCIA_ADM_ESC_Estadual</th> <td>  -21.8423</td> <td>    0.133</td> <td> -163.740</td> <td> 0.000</td> <td>  -22.104</td> <td>  -21.581</td>\n",
       "</tr>\n",
       "<tr>\n",
       "  <th>TP_DEPENDENCIA_ADM_ESC_Federal</th>  <td>   41.3721</td> <td>    0.376</td> <td>  110.068</td> <td> 0.000</td> <td>   40.635</td> <td>   42.109</td>\n",
       "</tr>\n",
       "<tr>\n",
       "  <th>TP_DEPENDENCIA_ADM_ESC_Privada</th>  <td>   24.9192</td> <td>    0.332</td> <td>   74.997</td> <td> 0.000</td> <td>   24.268</td> <td>   25.570</td>\n",
       "</tr>\n",
       "<tr>\n",
       "  <th>TP_LOCALIZACAO_ESC_Rural</th>        <td>  -15.9675</td> <td>    0.527</td> <td>  -30.281</td> <td> 0.000</td> <td>  -17.001</td> <td>  -14.934</td>\n",
       "</tr>\n",
       "<tr>\n",
       "  <th>EDUCACAO_PAI_MAE_A</th>              <td>  -18.2692</td> <td>    0.591</td> <td>  -30.931</td> <td> 0.000</td> <td>  -19.427</td> <td>  -17.112</td>\n",
       "</tr>\n",
       "<tr>\n",
       "  <th>EDUCACAO_PAI_MAE_B</th>              <td>    4.1982</td> <td>    0.411</td> <td>   10.206</td> <td> 0.000</td> <td>    3.392</td> <td>    5.004</td>\n",
       "</tr>\n",
       "<tr>\n",
       "  <th>EDUCACAO_PAI_MAE_C</th>              <td>   14.3134</td> <td>    0.410</td> <td>   34.938</td> <td> 0.000</td> <td>   13.510</td> <td>   15.116</td>\n",
       "</tr>\n",
       "<tr>\n",
       "  <th>EDUCACAO_PAI_MAE_D</th>              <td>   20.0297</td> <td>    0.403</td> <td>   49.733</td> <td> 0.000</td> <td>   19.240</td> <td>   20.819</td>\n",
       "</tr>\n",
       "<tr>\n",
       "  <th>EDUCACAO_PAI_MAE_E</th>              <td>   33.7194</td> <td>    0.380</td> <td>   88.824</td> <td> 0.000</td> <td>   32.975</td> <td>   34.463</td>\n",
       "</tr>\n",
       "<tr>\n",
       "  <th>EDUCACAO_PAI_MAE_F</th>              <td>   59.6490</td> <td>    0.394</td> <td>  151.335</td> <td> 0.000</td> <td>   58.876</td> <td>   60.421</td>\n",
       "</tr>\n",
       "<tr>\n",
       "  <th>EDUCACAO_PAI_MAE_G</th>              <td>   69.4660</td> <td>    0.395</td> <td>  176.024</td> <td> 0.000</td> <td>   68.693</td> <td>   70.240</td>\n",
       "</tr>\n",
       "</table>\n",
       "<table class=\"simpletable\">\n",
       "<tr>\n",
       "  <th>Omnibus:</th>       <td>9983.826</td> <th>  Durbin-Watson:     </th> <td>   1.978</td> \n",
       "</tr>\n",
       "<tr>\n",
       "  <th>Prob(Omnibus):</th>  <td> 0.000</td>  <th>  Jarque-Bera (JB):  </th> <td>11386.522</td>\n",
       "</tr>\n",
       "<tr>\n",
       "  <th>Skew:</th>           <td>-0.112</td>  <th>  Prob(JB):          </th> <td>    0.00</td> \n",
       "</tr>\n",
       "<tr>\n",
       "  <th>Kurtosis:</th>       <td> 3.258</td>  <th>  Cond. No.          </th> <td>    29.5</td> \n",
       "</tr>\n",
       "</table><br/><br/>Notes:<br/>[1] Standard Errors assume that the covariance matrix of the errors is correctly specified."
      ],
      "text/latex": [
       "\\begin{center}\n",
       "\\begin{tabular}{lclc}\n",
       "\\toprule\n",
       "\\textbf{Dep. Variable:}                      &      MEDIA       & \\textbf{  R-squared:         } &      0.239   \\\\\n",
       "\\textbf{Model:}                              &       OLS        & \\textbf{  Adj. R-squared:    } &      0.239   \\\\\n",
       "\\textbf{Method:}                             &  Least Squares   & \\textbf{  F-statistic:       } &  5.274e+04   \\\\\n",
       "\\textbf{Date:}                               & Sun, 02 Jul 2023 & \\textbf{  Prob (F-statistic):} &      0.00    \\\\\n",
       "\\textbf{Time:}                               &     21:04:49     & \\textbf{  Log-Likelihood:    } & -1.3506e+07  \\\\\n",
       "\\textbf{No. Observations:}                   &     2344823      & \\textbf{  AIC:               } &  2.701e+07   \\\\\n",
       "\\textbf{Df Residuals:}                       &     2344808      & \\textbf{  BIC:               } &  2.701e+07   \\\\\n",
       "\\textbf{Df Model:}                           &          14      & \\textbf{                     } &              \\\\\n",
       "\\textbf{Covariance Type:}                    &    nonrobust     & \\textbf{                     } &              \\\\\n",
       "\\bottomrule\n",
       "\\end{tabular}\n",
       "\\begin{tabular}{lcccccc}\n",
       "                                             & \\textbf{coef} & \\textbf{std err} & \\textbf{t} & \\textbf{P$> |$t$|$} & \\textbf{[0.025} & \\textbf{0.975]}  \\\\\n",
       "\\midrule\n",
       "\\textbf{const}                               &     481.6038  &        0.375     &  1282.736  &         0.000        &      480.868    &      482.340     \\\\\n",
       "\\textbf{COMPUTADOR\\_INTERNET}                &      42.7596  &        0.112     &   382.050  &         0.000        &       42.540    &       42.979     \\\\\n",
       "\\textbf{TP\\_ESCOLA\\_Privada}                 &      11.7101  &        0.341     &    34.326  &         0.000        &       11.041    &       12.379     \\\\\n",
       "\\textbf{TP\\_ENSINO\\_Especial}                &     -33.2234  &        1.143     &   -29.070  &         0.000        &      -35.463    &      -30.983     \\\\\n",
       "\\textbf{TP\\_DEPENDENCIA\\_ADM\\_ESC\\_Estadual} &     -21.8423  &        0.133     &  -163.740  &         0.000        &      -22.104    &      -21.581     \\\\\n",
       "\\textbf{TP\\_DEPENDENCIA\\_ADM\\_ESC\\_Federal}  &      41.3721  &        0.376     &   110.068  &         0.000        &       40.635    &       42.109     \\\\\n",
       "\\textbf{TP\\_DEPENDENCIA\\_ADM\\_ESC\\_Privada}  &      24.9192  &        0.332     &    74.997  &         0.000        &       24.268    &       25.570     \\\\\n",
       "\\textbf{TP\\_LOCALIZACAO\\_ESC\\_Rural}         &     -15.9675  &        0.527     &   -30.281  &         0.000        &      -17.001    &      -14.934     \\\\\n",
       "\\textbf{EDUCACAO\\_PAI\\_MAE\\_A}               &     -18.2692  &        0.591     &   -30.931  &         0.000        &      -19.427    &      -17.112     \\\\\n",
       "\\textbf{EDUCACAO\\_PAI\\_MAE\\_B}               &       4.1982  &        0.411     &    10.206  &         0.000        &        3.392    &        5.004     \\\\\n",
       "\\textbf{EDUCACAO\\_PAI\\_MAE\\_C}               &      14.3134  &        0.410     &    34.938  &         0.000        &       13.510    &       15.116     \\\\\n",
       "\\textbf{EDUCACAO\\_PAI\\_MAE\\_D}               &      20.0297  &        0.403     &    49.733  &         0.000        &       19.240    &       20.819     \\\\\n",
       "\\textbf{EDUCACAO\\_PAI\\_MAE\\_E}               &      33.7194  &        0.380     &    88.824  &         0.000        &       32.975    &       34.463     \\\\\n",
       "\\textbf{EDUCACAO\\_PAI\\_MAE\\_F}               &      59.6490  &        0.394     &   151.335  &         0.000        &       58.876    &       60.421     \\\\\n",
       "\\textbf{EDUCACAO\\_PAI\\_MAE\\_G}               &      69.4660  &        0.395     &   176.024  &         0.000        &       68.693    &       70.240     \\\\\n",
       "\\bottomrule\n",
       "\\end{tabular}\n",
       "\\begin{tabular}{lclc}\n",
       "\\textbf{Omnibus:}       & 9983.826 & \\textbf{  Durbin-Watson:     } &     1.978  \\\\\n",
       "\\textbf{Prob(Omnibus):} &   0.000  & \\textbf{  Jarque-Bera (JB):  } & 11386.522  \\\\\n",
       "\\textbf{Skew:}          &  -0.112  & \\textbf{  Prob(JB):          } &      0.00  \\\\\n",
       "\\textbf{Kurtosis:}      &   3.258  & \\textbf{  Cond. No.          } &      29.5  \\\\\n",
       "\\bottomrule\n",
       "\\end{tabular}\n",
       "%\\caption{OLS Regression Results}\n",
       "\\end{center}\n",
       "\n",
       "Notes: \\newline\n",
       " [1] Standard Errors assume that the covariance matrix of the errors is correctly specified."
      ],
      "text/plain": [
       "<class 'statsmodels.iolib.summary.Summary'>\n",
       "\"\"\"\n",
       "                            OLS Regression Results                            \n",
       "==============================================================================\n",
       "Dep. Variable:                  MEDIA   R-squared:                       0.239\n",
       "Model:                            OLS   Adj. R-squared:                  0.239\n",
       "Method:                 Least Squares   F-statistic:                 5.274e+04\n",
       "Date:                Sun, 02 Jul 2023   Prob (F-statistic):               0.00\n",
       "Time:                        21:04:49   Log-Likelihood:            -1.3506e+07\n",
       "No. Observations:             2344823   AIC:                         2.701e+07\n",
       "Df Residuals:                 2344808   BIC:                         2.701e+07\n",
       "Df Model:                          14                                         \n",
       "Covariance Type:            nonrobust                                         \n",
       "===================================================================================================\n",
       "                                      coef    std err          t      P>|t|      [0.025      0.975]\n",
       "---------------------------------------------------------------------------------------------------\n",
       "const                             481.6038      0.375   1282.736      0.000     480.868     482.340\n",
       "COMPUTADOR_INTERNET                42.7596      0.112    382.050      0.000      42.540      42.979\n",
       "TP_ESCOLA_Privada                  11.7101      0.341     34.326      0.000      11.041      12.379\n",
       "TP_ENSINO_Especial                -33.2234      1.143    -29.070      0.000     -35.463     -30.983\n",
       "TP_DEPENDENCIA_ADM_ESC_Estadual   -21.8423      0.133   -163.740      0.000     -22.104     -21.581\n",
       "TP_DEPENDENCIA_ADM_ESC_Federal     41.3721      0.376    110.068      0.000      40.635      42.109\n",
       "TP_DEPENDENCIA_ADM_ESC_Privada     24.9192      0.332     74.997      0.000      24.268      25.570\n",
       "TP_LOCALIZACAO_ESC_Rural          -15.9675      0.527    -30.281      0.000     -17.001     -14.934\n",
       "EDUCACAO_PAI_MAE_A                -18.2692      0.591    -30.931      0.000     -19.427     -17.112\n",
       "EDUCACAO_PAI_MAE_B                  4.1982      0.411     10.206      0.000       3.392       5.004\n",
       "EDUCACAO_PAI_MAE_C                 14.3134      0.410     34.938      0.000      13.510      15.116\n",
       "EDUCACAO_PAI_MAE_D                 20.0297      0.403     49.733      0.000      19.240      20.819\n",
       "EDUCACAO_PAI_MAE_E                 33.7194      0.380     88.824      0.000      32.975      34.463\n",
       "EDUCACAO_PAI_MAE_F                 59.6490      0.394    151.335      0.000      58.876      60.421\n",
       "EDUCACAO_PAI_MAE_G                 69.4660      0.395    176.024      0.000      68.693      70.240\n",
       "==============================================================================\n",
       "Omnibus:                     9983.826   Durbin-Watson:                   1.978\n",
       "Prob(Omnibus):                  0.000   Jarque-Bera (JB):            11386.522\n",
       "Skew:                          -0.112   Prob(JB):                         0.00\n",
       "Kurtosis:                       3.258   Cond. No.                         29.5\n",
       "==============================================================================\n",
       "\n",
       "Notes:\n",
       "[1] Standard Errors assume that the covariance matrix of the errors is correctly specified.\n",
       "\"\"\""
      ]
     },
     "execution_count": 42,
     "metadata": {},
     "output_type": "execute_result"
    }
   ],
   "source": [
    "modelo.summary()"
   ]
  },
  {
   "cell_type": "code",
   "execution_count": null,
   "metadata": {},
   "outputs": [],
   "source": [
    "# solve problem: ValueError: Pandas data cast to numpy dtype of object. Check input data with np.asarray(data).#\n",
    "\n",
    "\n",
    "\n"
   ]
  }
 ],
 "metadata": {
  "kernelspec": {
   "display_name": "hipoteses",
   "language": "python",
   "name": "python3"
  },
  "language_info": {
   "codemirror_mode": {
    "name": "ipython",
    "version": 3
   },
   "file_extension": ".py",
   "mimetype": "text/x-python",
   "name": "python",
   "nbconvert_exporter": "python",
   "pygments_lexer": "ipython3",
   "version": "3.11.4"
  },
  "orig_nbformat": 4
 },
 "nbformat": 4,
 "nbformat_minor": 2
}
